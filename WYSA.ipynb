{
  "nbformat": 4,
  "nbformat_minor": 0,
  "metadata": {
    "kernelspec": {
      "display_name": "Python 3",
      "language": "python",
      "name": "python3"
    },
    "language_info": {
      "codemirror_mode": {
        "name": "ipython",
        "version": 3
      },
      "file_extension": ".py",
      "mimetype": "text/x-python",
      "name": "python",
      "nbconvert_exporter": "python",
      "pygments_lexer": "ipython3",
      "version": "3.7.6"
    },
    "colab": {
      "name": "WYSA.ipynb",
      "provenance": []
    },
    "accelerator": "GPU"
  },
  "cells": [
    {
      "cell_type": "markdown",
      "metadata": {
        "id": "IZWAQM9c3kNF"
      },
      "source": [
        "### importing required libraries"
      ]
    },
    {
      "cell_type": "code",
      "metadata": {
        "id": "ZhdlhRuUyIN2"
      },
      "source": [
        "import pandas as pd\n",
        "import numpy as np\n",
        "import matplotlib.pyplot as plt\n",
        "%matplotlib inline\n",
        "import seaborn as sns"
      ],
      "execution_count": 1,
      "outputs": []
    },
    {
      "cell_type": "markdown",
      "metadata": {
        "id": "e5DG08Az3syI"
      },
      "source": [
        "### loading the dataset"
      ]
    },
    {
      "cell_type": "code",
      "metadata": {
        "colab": {
          "base_uri": "https://localhost:8080/"
        },
        "id": "3Z2GzCr_yb1D",
        "outputId": "8bba56b2-a05e-4531-e071-bbaa674b6e1a"
      },
      "source": [
        "from google.colab import drive\r\n",
        "drive.mount(\"/content/gdrive\")"
      ],
      "execution_count": 2,
      "outputs": [
        {
          "output_type": "stream",
          "text": [
            "Mounted at /content/gdrive\n"
          ],
          "name": "stdout"
        }
      ]
    },
    {
      "cell_type": "code",
      "metadata": {
        "id": "8mHNggftygIF"
      },
      "source": [
        "df = pd.read_csv('/content/gdrive/MyDrive/File/JEOPARDY_CSV.csv')"
      ],
      "execution_count": 4,
      "outputs": []
    },
    {
      "cell_type": "code",
      "metadata": {
        "colab": {
          "base_uri": "https://localhost:8080/",
          "height": 195
        },
        "id": "zeE78VlJyIOI",
        "outputId": "6ef2e128-91f7-4534-852e-20adb7c127f5"
      },
      "source": [
        "df.head()"
      ],
      "execution_count": 5,
      "outputs": [
        {
          "output_type": "execute_result",
          "data": {
            "text/html": [
              "<div>\n",
              "<style scoped>\n",
              "    .dataframe tbody tr th:only-of-type {\n",
              "        vertical-align: middle;\n",
              "    }\n",
              "\n",
              "    .dataframe tbody tr th {\n",
              "        vertical-align: top;\n",
              "    }\n",
              "\n",
              "    .dataframe thead th {\n",
              "        text-align: right;\n",
              "    }\n",
              "</style>\n",
              "<table border=\"1\" class=\"dataframe\">\n",
              "  <thead>\n",
              "    <tr style=\"text-align: right;\">\n",
              "      <th></th>\n",
              "      <th>Show Number</th>\n",
              "      <th>Air Date</th>\n",
              "      <th>Round</th>\n",
              "      <th>Category</th>\n",
              "      <th>Value</th>\n",
              "      <th>Question</th>\n",
              "      <th>Answer</th>\n",
              "    </tr>\n",
              "  </thead>\n",
              "  <tbody>\n",
              "    <tr>\n",
              "      <th>0</th>\n",
              "      <td>4680</td>\n",
              "      <td>31-12-2004</td>\n",
              "      <td>Jeopardy!</td>\n",
              "      <td>HISTORY</td>\n",
              "      <td>$200</td>\n",
              "      <td>For the last 8 years of his life, Galileo was ...</td>\n",
              "      <td>Copernicus</td>\n",
              "    </tr>\n",
              "    <tr>\n",
              "      <th>1</th>\n",
              "      <td>4680</td>\n",
              "      <td>31-12-2004</td>\n",
              "      <td>Jeopardy!</td>\n",
              "      <td>ESPN's TOP 10 ALL-TIME ATHLETES</td>\n",
              "      <td>$200</td>\n",
              "      <td>No. 2: 1912 Olympian; football star at Carlisl...</td>\n",
              "      <td>Jim Thorpe</td>\n",
              "    </tr>\n",
              "    <tr>\n",
              "      <th>2</th>\n",
              "      <td>4680</td>\n",
              "      <td>31-12-2004</td>\n",
              "      <td>Jeopardy!</td>\n",
              "      <td>EVERYBODY TALKS ABOUT IT...</td>\n",
              "      <td>$200</td>\n",
              "      <td>The city of Yuma in this state has a record av...</td>\n",
              "      <td>Arizona</td>\n",
              "    </tr>\n",
              "    <tr>\n",
              "      <th>3</th>\n",
              "      <td>4680</td>\n",
              "      <td>31-12-2004</td>\n",
              "      <td>Jeopardy!</td>\n",
              "      <td>THE COMPANY LINE</td>\n",
              "      <td>$200</td>\n",
              "      <td>In 1963, live on \"The Art Linkletter Show\", th...</td>\n",
              "      <td>McDonald's</td>\n",
              "    </tr>\n",
              "    <tr>\n",
              "      <th>4</th>\n",
              "      <td>4680</td>\n",
              "      <td>31-12-2004</td>\n",
              "      <td>Jeopardy!</td>\n",
              "      <td>EPITAPHS &amp; TRIBUTES</td>\n",
              "      <td>$200</td>\n",
              "      <td>Signer of the Dec. of Indep., framer of the Co...</td>\n",
              "      <td>John Adams</td>\n",
              "    </tr>\n",
              "  </tbody>\n",
              "</table>\n",
              "</div>"
            ],
            "text/plain": [
              "   Show Number  ...      Answer\n",
              "0         4680  ...  Copernicus\n",
              "1         4680  ...  Jim Thorpe\n",
              "2         4680  ...     Arizona\n",
              "3         4680  ...  McDonald's\n",
              "4         4680  ...  John Adams\n",
              "\n",
              "[5 rows x 7 columns]"
            ]
          },
          "metadata": {
            "tags": []
          },
          "execution_count": 5
        }
      ]
    },
    {
      "cell_type": "code",
      "metadata": {
        "colab": {
          "base_uri": "https://localhost:8080/"
        },
        "id": "SN0BjHe-yIOK",
        "outputId": "caa5c658-2e57-48fb-9853-3e98469ddd8e"
      },
      "source": [
        "df.shape"
      ],
      "execution_count": 6,
      "outputs": [
        {
          "output_type": "execute_result",
          "data": {
            "text/plain": [
              "(216930, 7)"
            ]
          },
          "metadata": {
            "tags": []
          },
          "execution_count": 6
        }
      ]
    },
    {
      "cell_type": "code",
      "metadata": {
        "colab": {
          "base_uri": "https://localhost:8080/"
        },
        "id": "CuyU602CyIOM",
        "outputId": "68f62bd2-b916-4269-d75e-bab90fe7860f"
      },
      "source": [
        "df.info()"
      ],
      "execution_count": 8,
      "outputs": [
        {
          "output_type": "stream",
          "text": [
            "<class 'pandas.core.frame.DataFrame'>\n",
            "RangeIndex: 216930 entries, 0 to 216929\n",
            "Data columns (total 7 columns):\n",
            " #   Column       Non-Null Count   Dtype \n",
            "---  ------       --------------   ----- \n",
            " 0   Show Number  216930 non-null  int64 \n",
            " 1    Air Date    216930 non-null  object\n",
            " 2    Round       216930 non-null  object\n",
            " 3    Category    216930 non-null  object\n",
            " 4    Value       213296 non-null  object\n",
            " 5    Question    216930 non-null  object\n",
            " 6    Answer      216926 non-null  object\n",
            "dtypes: int64(1), object(6)\n",
            "memory usage: 11.6+ MB\n"
          ],
          "name": "stdout"
        }
      ]
    },
    {
      "cell_type": "code",
      "metadata": {
        "scrolled": true,
        "colab": {
          "base_uri": "https://localhost:8080/"
        },
        "id": "9_yB9vOeyION",
        "outputId": "46ad0833-83ff-4758-d79b-af4314f61a5b"
      },
      "source": [
        "df.isnull().sum()"
      ],
      "execution_count": 9,
      "outputs": [
        {
          "output_type": "execute_result",
          "data": {
            "text/plain": [
              "Show Number       0\n",
              " Air Date         0\n",
              " Round            0\n",
              " Category         0\n",
              " Value         3634\n",
              " Question         0\n",
              " Answer           4\n",
              "dtype: int64"
            ]
          },
          "metadata": {
            "tags": []
          },
          "execution_count": 9
        }
      ]
    },
    {
      "cell_type": "markdown",
      "metadata": {
        "id": "Lgrt8k_s3xuu"
      },
      "source": [
        "### droping null values"
      ]
    },
    {
      "cell_type": "code",
      "metadata": {
        "id": "tMXqMq-lyIOO"
      },
      "source": [
        "df.dropna(inplace=True)"
      ],
      "execution_count": 10,
      "outputs": []
    },
    {
      "cell_type": "code",
      "metadata": {
        "colab": {
          "base_uri": "https://localhost:8080/"
        },
        "id": "DoSpkp8SyIOO",
        "outputId": "cf02b6d4-7888-4d2b-fa8a-89ed5bf81e12"
      },
      "source": [
        "df[' Answer'].value_counts()"
      ],
      "execution_count": 11,
      "outputs": [
        {
          "output_type": "execute_result",
          "data": {
            "text/plain": [
              "China                      212\n",
              "Australia                  211\n",
              "Japan                      193\n",
              "France                     191\n",
              "Chicago                    189\n",
              "                          ... \n",
              "the Postmaster General       1\n",
              "The Tyger                    1\n",
              "The Brontes                  1\n",
              "the Social Security Act      1\n",
              "\"The Edge\"                   1\n",
              "Name:  Answer, Length: 87130, dtype: int64"
            ]
          },
          "metadata": {
            "tags": []
          },
          "execution_count": 11
        }
      ]
    },
    {
      "cell_type": "code",
      "metadata": {
        "id": "DdCco0QjyIOP"
      },
      "source": [
        "df[' Air Date'] = pd.to_datetime(df[' Air Date'])"
      ],
      "execution_count": 12,
      "outputs": []
    },
    {
      "cell_type": "code",
      "metadata": {
        "colab": {
          "base_uri": "https://localhost:8080/"
        },
        "id": "WUpYy-RuyIOP",
        "outputId": "230b25a7-21f0-4a1a-a616-aa7604e8dd2b"
      },
      "source": [
        "df.info()"
      ],
      "execution_count": 13,
      "outputs": [
        {
          "output_type": "stream",
          "text": [
            "<class 'pandas.core.frame.DataFrame'>\n",
            "Int64Index: 213292 entries, 0 to 216928\n",
            "Data columns (total 7 columns):\n",
            " #   Column       Non-Null Count   Dtype         \n",
            "---  ------       --------------   -----         \n",
            " 0   Show Number  213292 non-null  int64         \n",
            " 1    Air Date    213292 non-null  datetime64[ns]\n",
            " 2    Round       213292 non-null  object        \n",
            " 3    Category    213292 non-null  object        \n",
            " 4    Value       213292 non-null  object        \n",
            " 5    Question    213292 non-null  object        \n",
            " 6    Answer      213292 non-null  object        \n",
            "dtypes: datetime64[ns](1), int64(1), object(5)\n",
            "memory usage: 13.0+ MB\n"
          ],
          "name": "stdout"
        }
      ]
    },
    {
      "cell_type": "code",
      "metadata": {
        "scrolled": true,
        "colab": {
          "base_uri": "https://localhost:8080/",
          "height": 296
        },
        "id": "X3x933l_yIOQ",
        "outputId": "a3ba3713-879f-4272-d392-0f17e88cfa85"
      },
      "source": [
        "sns.countplot(x =' Round', data =df)"
      ],
      "execution_count": 14,
      "outputs": [
        {
          "output_type": "execute_result",
          "data": {
            "text/plain": [
              "<matplotlib.axes._subplots.AxesSubplot at 0x7fb49d16afd0>"
            ]
          },
          "metadata": {
            "tags": []
          },
          "execution_count": 14
        },
        {
          "output_type": "display_data",
          "data": {
            "image/png": "[encoded data removed]",
            "text/plain": [
              "<Figure size 432x288 with 1 Axes>"
            ]
          },
          "metadata": {
            "tags": [],
            "needs_background": "light"
          }
        }
      ]
    },
    {
      "cell_type": "code",
      "metadata": {
        "id": "CKPOp2FMyIOR"
      },
      "source": [
        "# removing ',' and '$' from 'value' column\r\n",
        "\r\n",
        "df['Value'] = df[' Value'].apply(lambda value: value.replace(',', '').replace('$', ''))"
      ],
      "execution_count": 37,
      "outputs": []
    },
    {
      "cell_type": "code",
      "metadata": {
        "scrolled": true,
        "id": "jzw_hMQsyIOR"
      },
      "source": [
        "df['Value'] = df['Value'].apply(pd.to_numeric)"
      ],
      "execution_count": 16,
      "outputs": []
    },
    {
      "cell_type": "code",
      "metadata": {
        "id": "7j2ntsDByIOS"
      },
      "source": [
        "df.drop([' Value'],axis=1, inplace = True)"
      ],
      "execution_count": 17,
      "outputs": []
    },
    {
      "cell_type": "code",
      "metadata": {
        "id": "8RW1hJjByIOS"
      },
      "source": [
        "def binning(value):\n",
        "    if value < 1000:\n",
        "        return np.round(value, -2)\n",
        "    elif value < 10000:\n",
        "        return np.round(value, -3)\n",
        "    else:\n",
        "        return np.round(value, -4)\n",
        "\n",
        "df['ValueBin'] = df['Value'].apply(binning)"
      ],
      "execution_count": 18,
      "outputs": []
    },
    {
      "cell_type": "code",
      "metadata": {
        "colab": {
          "base_uri": "https://localhost:8080/",
          "height": 195
        },
        "id": "PuTsDHDUyIOT",
        "outputId": "6001f2da-444a-4486-c7cb-35a347e17c34"
      },
      "source": [
        "df.head()"
      ],
      "execution_count": 19,
      "outputs": [
        {
          "output_type": "execute_result",
          "data": {
            "text/html": [
              "<div>\n",
              "<style scoped>\n",
              "    .dataframe tbody tr th:only-of-type {\n",
              "        vertical-align: middle;\n",
              "    }\n",
              "\n",
              "    .dataframe tbody tr th {\n",
              "        vertical-align: top;\n",
              "    }\n",
              "\n",
              "    .dataframe thead th {\n",
              "        text-align: right;\n",
              "    }\n",
              "</style>\n",
              "<table border=\"1\" class=\"dataframe\">\n",
              "  <thead>\n",
              "    <tr style=\"text-align: right;\">\n",
              "      <th></th>\n",
              "      <th>Show Number</th>\n",
              "      <th>Air Date</th>\n",
              "      <th>Round</th>\n",
              "      <th>Category</th>\n",
              "      <th>Question</th>\n",
              "      <th>Answer</th>\n",
              "      <th>Value</th>\n",
              "      <th>ValueBin</th>\n",
              "    </tr>\n",
              "  </thead>\n",
              "  <tbody>\n",
              "    <tr>\n",
              "      <th>0</th>\n",
              "      <td>4680</td>\n",
              "      <td>2004-12-31</td>\n",
              "      <td>Jeopardy!</td>\n",
              "      <td>HISTORY</td>\n",
              "      <td>For the last 8 years of his life, Galileo was ...</td>\n",
              "      <td>Copernicus</td>\n",
              "      <td>200</td>\n",
              "      <td>200</td>\n",
              "    </tr>\n",
              "    <tr>\n",
              "      <th>1</th>\n",
              "      <td>4680</td>\n",
              "      <td>2004-12-31</td>\n",
              "      <td>Jeopardy!</td>\n",
              "      <td>ESPN's TOP 10 ALL-TIME ATHLETES</td>\n",
              "      <td>No. 2: 1912 Olympian; football star at Carlisl...</td>\n",
              "      <td>Jim Thorpe</td>\n",
              "      <td>200</td>\n",
              "      <td>200</td>\n",
              "    </tr>\n",
              "    <tr>\n",
              "      <th>2</th>\n",
              "      <td>4680</td>\n",
              "      <td>2004-12-31</td>\n",
              "      <td>Jeopardy!</td>\n",
              "      <td>EVERYBODY TALKS ABOUT IT...</td>\n",
              "      <td>The city of Yuma in this state has a record av...</td>\n",
              "      <td>Arizona</td>\n",
              "      <td>200</td>\n",
              "      <td>200</td>\n",
              "    </tr>\n",
              "    <tr>\n",
              "      <th>3</th>\n",
              "      <td>4680</td>\n",
              "      <td>2004-12-31</td>\n",
              "      <td>Jeopardy!</td>\n",
              "      <td>THE COMPANY LINE</td>\n",
              "      <td>In 1963, live on \"The Art Linkletter Show\", th...</td>\n",
              "      <td>McDonald's</td>\n",
              "      <td>200</td>\n",
              "      <td>200</td>\n",
              "    </tr>\n",
              "    <tr>\n",
              "      <th>4</th>\n",
              "      <td>4680</td>\n",
              "      <td>2004-12-31</td>\n",
              "      <td>Jeopardy!</td>\n",
              "      <td>EPITAPHS &amp; TRIBUTES</td>\n",
              "      <td>Signer of the Dec. of Indep., framer of the Co...</td>\n",
              "      <td>John Adams</td>\n",
              "      <td>200</td>\n",
              "      <td>200</td>\n",
              "    </tr>\n",
              "  </tbody>\n",
              "</table>\n",
              "</div>"
            ],
            "text/plain": [
              "   Show Number   Air Date      Round  ...      Answer Value ValueBin\n",
              "0         4680 2004-12-31  Jeopardy!  ...  Copernicus   200      200\n",
              "1         4680 2004-12-31  Jeopardy!  ...  Jim Thorpe   200      200\n",
              "2         4680 2004-12-31  Jeopardy!  ...     Arizona   200      200\n",
              "3         4680 2004-12-31  Jeopardy!  ...  McDonald's   200      200\n",
              "4         4680 2004-12-31  Jeopardy!  ...  John Adams   200      200\n",
              "\n",
              "[5 rows x 8 columns]"
            ]
          },
          "metadata": {
            "tags": []
          },
          "execution_count": 19
        }
      ]
    },
    {
      "cell_type": "code",
      "metadata": {
        "id": "67vryg0byIOU"
      },
      "source": [
        "df.drop(['Value'], axis = 1,inplace = True)"
      ],
      "execution_count": 20,
      "outputs": []
    },
    {
      "cell_type": "code",
      "metadata": {
        "id": "Mx8L621RyIOU"
      },
      "source": [
        "df.drop([' Category'], axis = 1,inplace = True)"
      ],
      "execution_count": 21,
      "outputs": []
    },
    {
      "cell_type": "code",
      "metadata": {
        "scrolled": true,
        "colab": {
          "base_uri": "https://localhost:8080/",
          "height": 136
        },
        "id": "GsaxTsTyyIOV",
        "outputId": "122beacb-b8ed-4e4b-d650-2f8915fa1a28"
      },
      "source": [
        "df.head(3)"
      ],
      "execution_count": 22,
      "outputs": [
        {
          "output_type": "execute_result",
          "data": {
            "text/html": [
              "<div>\n",
              "<style scoped>\n",
              "    .dataframe tbody tr th:only-of-type {\n",
              "        vertical-align: middle;\n",
              "    }\n",
              "\n",
              "    .dataframe tbody tr th {\n",
              "        vertical-align: top;\n",
              "    }\n",
              "\n",
              "    .dataframe thead th {\n",
              "        text-align: right;\n",
              "    }\n",
              "</style>\n",
              "<table border=\"1\" class=\"dataframe\">\n",
              "  <thead>\n",
              "    <tr style=\"text-align: right;\">\n",
              "      <th></th>\n",
              "      <th>Show Number</th>\n",
              "      <th>Air Date</th>\n",
              "      <th>Round</th>\n",
              "      <th>Question</th>\n",
              "      <th>Answer</th>\n",
              "      <th>ValueBin</th>\n",
              "    </tr>\n",
              "  </thead>\n",
              "  <tbody>\n",
              "    <tr>\n",
              "      <th>0</th>\n",
              "      <td>4680</td>\n",
              "      <td>2004-12-31</td>\n",
              "      <td>Jeopardy!</td>\n",
              "      <td>For the last 8 years of his life, Galileo was ...</td>\n",
              "      <td>Copernicus</td>\n",
              "      <td>200</td>\n",
              "    </tr>\n",
              "    <tr>\n",
              "      <th>1</th>\n",
              "      <td>4680</td>\n",
              "      <td>2004-12-31</td>\n",
              "      <td>Jeopardy!</td>\n",
              "      <td>No. 2: 1912 Olympian; football star at Carlisl...</td>\n",
              "      <td>Jim Thorpe</td>\n",
              "      <td>200</td>\n",
              "    </tr>\n",
              "    <tr>\n",
              "      <th>2</th>\n",
              "      <td>4680</td>\n",
              "      <td>2004-12-31</td>\n",
              "      <td>Jeopardy!</td>\n",
              "      <td>The city of Yuma in this state has a record av...</td>\n",
              "      <td>Arizona</td>\n",
              "      <td>200</td>\n",
              "    </tr>\n",
              "  </tbody>\n",
              "</table>\n",
              "</div>"
            ],
            "text/plain": [
              "   Show Number   Air Date  ...      Answer ValueBin\n",
              "0         4680 2004-12-31  ...  Copernicus      200\n",
              "1         4680 2004-12-31  ...  Jim Thorpe      200\n",
              "2         4680 2004-12-31  ...     Arizona      200\n",
              "\n",
              "[3 rows x 6 columns]"
            ]
          },
          "metadata": {
            "tags": []
          },
          "execution_count": 22
        }
      ]
    },
    {
      "cell_type": "code",
      "metadata": {
        "id": "BwDg-eZpyIOV"
      },
      "source": [
        "from sklearn.model_selection import train_test_split\n",
        "\n",
        "show_numbers = df['Show Number'].unique()\n",
        "train_shows, test_shows = train_test_split(show_numbers, test_size=0.2, random_state=2019)\n",
        "\n",
        "train_mask = df['Show Number'].isin(train_shows)\n",
        "test_mask = df['Show Number'].isin(test_shows)\n",
        "\n",
        "train_labels = df.loc[train_mask, 'ValueBin']\n",
        "train_questions = df.loc[train_mask, ' Question']\n",
        "test_labels = df.loc[test_mask, 'ValueBin']\n",
        "test_questions = df.loc[test_mask, ' Question']"
      ],
      "execution_count": 23,
      "outputs": []
    },
    {
      "cell_type": "code",
      "metadata": {
        "colab": {
          "base_uri": "https://localhost:8080/"
        },
        "id": "47BXVZVCyIOW",
        "outputId": "fca8ccf2-7b9f-469b-8f97-57a3b280d44b"
      },
      "source": [
        "from sklearn.feature_extraction.text import CountVectorizer\n",
        "\n",
        "bow = CountVectorizer(stop_words='english', max_features=2000)\n",
        "bow.fit(df[' Question'])"
      ],
      "execution_count": 24,
      "outputs": [
        {
          "output_type": "execute_result",
          "data": {
            "text/plain": [
              "CountVectorizer(analyzer='word', binary=False, decode_error='strict',\n",
              "                dtype=<class 'numpy.int64'>, encoding='utf-8', input='content',\n",
              "                lowercase=True, max_df=1.0, max_features=2000, min_df=1,\n",
              "                ngram_range=(1, 1), preprocessor=None, stop_words='english',\n",
              "                strip_accents=None, token_pattern='(?u)\\\\b\\\\w\\\\w+\\\\b',\n",
              "                tokenizer=None, vocabulary=None)"
            ]
          },
          "metadata": {
            "tags": []
          },
          "execution_count": 24
        }
      ]
    },
    {
      "cell_type": "code",
      "metadata": {
        "colab": {
          "base_uri": "https://localhost:8080/"
        },
        "id": "lnwjPW6_yIOX",
        "outputId": "781029ff-1eac-407e-d939-86d8bac1fbf7"
      },
      "source": [
        "X_train = bow.transform(train_questions)\n",
        "X_test = bow.transform(test_questions)\n",
        "\n",
        "y_train = train_labels\n",
        "y_test = test_labels\n",
        "\n",
        "print(\"Shape of X_train:\", X_train.shape)\n",
        "print(\"Shape of X_test:\", X_test.shape)\n",
        "print(\"Shape of y_train:\", y_train.shape)\n",
        "print(\"Shape of y_test:\", y_test.shape)"
      ],
      "execution_count": 25,
      "outputs": [
        {
          "output_type": "stream",
          "text": [
            "Shape of X_train: (170702, 2000)\n",
            "Shape of X_test: (42590, 2000)\n",
            "Shape of y_train: (170702,)\n",
            "Shape of y_test: (42590,)\n"
          ],
          "name": "stdout"
        }
      ]
    },
    {
      "cell_type": "markdown",
      "metadata": {
        "id": "hq9vBvRV4Pbf"
      },
      "source": [
        "## LogisticRegression model"
      ]
    },
    {
      "cell_type": "code",
      "metadata": {
        "colab": {
          "base_uri": "https://localhost:8080/"
        },
        "id": "xpi0IvKLyIOX",
        "outputId": "7b96a027-a890-4c31-ca40-d00ec304852f"
      },
      "source": [
        "from sklearn.linear_model import LogisticRegression\n",
        "\n",
        "lr = LogisticRegression( multi_class='multinomial', max_iter=200)\n",
        "lr.fit(X_train, y_train)"
      ],
      "execution_count": 26,
      "outputs": [
        {
          "output_type": "stream",
          "text": [
            "/usr/local/lib/python3.7/dist-packages/sklearn/linear_model/_logistic.py:940: ConvergenceWarning: lbfgs failed to converge (status=1):\n",
            "STOP: TOTAL NO. of ITERATIONS REACHED LIMIT.\n",
            "\n",
            "Increase the number of iterations (max_iter) or scale the data as shown in:\n",
            "    https://scikit-learn.org/stable/modules/preprocessing.html\n",
            "Please also refer to the documentation for alternative solver options:\n",
            "    https://scikit-learn.org/stable/modules/linear_model.html#logistic-regression\n",
            "  extra_warning_msg=_LOGISTIC_SOLVER_CONVERGENCE_MSG)\n"
          ],
          "name": "stderr"
        },
        {
          "output_type": "execute_result",
          "data": {
            "text/plain": [
              "LogisticRegression(C=1.0, class_weight=None, dual=False, fit_intercept=True,\n",
              "                   intercept_scaling=1, l1_ratio=None, max_iter=200,\n",
              "                   multi_class='multinomial', n_jobs=None, penalty='l2',\n",
              "                   random_state=None, solver='lbfgs', tol=0.0001, verbose=0,\n",
              "                   warm_start=False)"
            ]
          },
          "metadata": {
            "tags": []
          },
          "execution_count": 26
        }
      ]
    },
    {
      "cell_type": "code",
      "metadata": {
        "colab": {
          "base_uri": "https://localhost:8080/"
        },
        "id": "gqG_H91ByIOY",
        "outputId": "577f6285-0769-45f1-86f4-b90e01f7f85d"
      },
      "source": [
        "from sklearn.metrics import classification_report\n",
        "\n",
        "y_pred = lr.predict(X_test)\n",
        "\n",
        "print(classification_report(y_test, y_pred))"
      ],
      "execution_count": 27,
      "outputs": [
        {
          "output_type": "stream",
          "text": [
            "              precision    recall  f1-score   support\n",
            "\n",
            "           0       0.00      0.00      0.00         2\n",
            "         100       0.05      0.00      0.00      1863\n",
            "         200       0.18      0.14      0.15      6131\n",
            "         300       0.06      0.00      0.01      1801\n",
            "         400       0.21      0.58      0.30      8425\n",
            "         500       0.11      0.01      0.01      1827\n",
            "         600       0.11      0.01      0.02      4099\n",
            "         700       0.00      0.00      0.00        41\n",
            "         800       0.15      0.10      0.12      6278\n",
            "         900       0.00      0.00      0.00        28\n",
            "        1000       0.19      0.20      0.19      6720\n",
            "        2000       0.19      0.09      0.12      4938\n",
            "        3000       0.00      0.00      0.00       198\n",
            "        4000       0.00      0.00      0.00       121\n",
            "        5000       0.00      0.00      0.00        61\n",
            "        6000       0.00      0.00      0.00        21\n",
            "        7000       0.00      0.00      0.00         9\n",
            "        8000       0.00      0.00      0.00        11\n",
            "        9000       0.00      0.00      0.00         4\n",
            "       10000       0.00      0.00      0.00        12\n",
            "\n",
            "    accuracy                           0.19     42590\n",
            "   macro avg       0.06      0.06      0.05     42590\n",
            "weighted avg       0.16      0.19      0.15     42590\n",
            "\n"
          ],
          "name": "stdout"
        },
        {
          "output_type": "stream",
          "text": [
            "/usr/local/lib/python3.7/dist-packages/sklearn/metrics/_classification.py:1272: UndefinedMetricWarning: Precision and F-score are ill-defined and being set to 0.0 in labels with no predicted samples. Use `zero_division` parameter to control this behavior.\n",
            "  _warn_prf(average, modifier, msg_start, len(result))\n"
          ],
          "name": "stderr"
        }
      ]
    },
    {
      "cell_type": "code",
      "metadata": {
        "colab": {
          "base_uri": "https://localhost:8080/"
        },
        "id": "FIwIIA5CyIOY",
        "outputId": "c9ddbf17-e42f-437a-ddff-261151fc23ae"
      },
      "source": [
        "from tensorflow.keras.preprocessing.text import Tokenizer\n",
        "\n",
        "tokenizer = Tokenizer(num_words=50000)\n",
        "tokenizer.fit_on_texts(df[' Question'])\n",
        "\n",
        "train_sequence = tokenizer.texts_to_sequences(train_questions)\n",
        "test_sequence = tokenizer.texts_to_sequences(test_questions)\n",
        "\n",
        "print(\"Original text:\", train_questions[0])\n",
        "print(\"Converted sequence:\", train_sequence[0])"
      ],
      "execution_count": 28,
      "outputs": [
        {
          "output_type": "stream",
          "text": [
            "Original text: For the last 8 years of his life, Galileo was under house arrest for espousing this man's theory\n",
            "Converted sequence: [7, 1, 112, 272, 102, 4, 14, 189, 7842, 9, 226, 173, 5421, 7, 41553, 2, 571, 1552]\n"
          ],
          "name": "stdout"
        }
      ]
    },
    {
      "cell_type": "code",
      "metadata": {
        "colab": {
          "base_uri": "https://localhost:8080/"
        },
        "id": "NO_UkEpvyIOZ",
        "outputId": "46243ad8-3707-43df-f6b8-18d7519869ae"
      },
      "source": [
        "X_train = pad_sequences(train_sequence, maxlen=50)\n",
        "X_test = pad_sequences(test_sequence, maxlen=50)\n",
        "\n",
        "print(X_train.shape)\n",
        "print(X_test.shape)"
      ],
      "execution_count": 29,
      "outputs": [
        {
          "output_type": "stream",
          "text": [
            "(170702, 50)\n",
            "(42590, 50)\n"
          ],
          "name": "stdout"
        }
      ]
    },
    {
      "cell_type": "code",
      "metadata": {
        "colab": {
          "base_uri": "https://localhost:8080/"
        },
        "id": "whSu_nsuyIOa",
        "outputId": "2ab1d9b8-891e-4116-e70f-b489435cd504"
      },
      "source": [
        "from sklearn.preprocessing import LabelEncoder\n",
        "\n",
        "le = LabelEncoder()\n",
        "le.fit(df['ValueBin'])\n",
        "\n",
        "y_train = le.transform(train_labels)\n",
        "y_test = le.transform(test_labels)\n",
        "\n",
        "print(y_train.shape)\n",
        "print(y_test.shape)"
      ],
      "execution_count": 30,
      "outputs": [
        {
          "output_type": "stream",
          "text": [
            "(170702,)\n",
            "(42590,)\n"
          ],
          "name": "stdout"
        }
      ]
    },
    {
      "cell_type": "code",
      "metadata": {
        "id": "BDjAdIQiyIOa"
      },
      "source": [
        "num_words = tokenizer.num_words\n",
        "output_size = len(le.classes_)"
      ],
      "execution_count": 31,
      "outputs": []
    },
    {
      "cell_type": "code",
      "metadata": {
        "colab": {
          "base_uri": "https://localhost:8080/"
        },
        "id": "6__X0tVU5ijh",
        "outputId": "81325088-eb55-4be1-e0ef-1e8a64cf8746"
      },
      "source": [
        "model = Sequential([\r\n",
        "    Embedding(input_dim=num_words, \r\n",
        "              output_dim=200, \r\n",
        "              mask_zero=True, \r\n",
        "              input_length=50),\r\n",
        "    Bidirectional(LSTM(150, return_sequences=True)),\r\n",
        "    GlobalMaxPooling1D(),\r\n",
        "    Dense(300, activation='relu'),\r\n",
        "    Dropout(0.5),\r\n",
        "    Dense(output_size, activation='softmax')\r\n",
        "\r\n",
        "])\r\n",
        "\r\n",
        "model.compile('adam', loss='sparse_categorical_crossentropy', metrics=['accuracy'])\r\n",
        "\r\n",
        "model.summary()"
      ],
      "execution_count": 46,
      "outputs": [
        {
          "output_type": "stream",
          "text": [
            "Model: \"sequential_2\"\n",
            "_________________________________________________________________\n",
            "Layer (type)                 Output Shape              Param #   \n",
            "=================================================================\n",
            "embedding_3 (Embedding)      (None, 50, 200)           10000000  \n",
            "_________________________________________________________________\n",
            "bidirectional_2 (Bidirection (None, 50, 300)           421200    \n",
            "_________________________________________________________________\n",
            "global_max_pooling1d_2 (Glob (None, 300)               0         \n",
            "_________________________________________________________________\n",
            "dense_4 (Dense)              (None, 300)               90300     \n",
            "_________________________________________________________________\n",
            "dropout_40 (Dropout)         (None, 300)               0         \n",
            "_________________________________________________________________\n",
            "dense_5 (Dense)              (None, 21)                6321      \n",
            "=================================================================\n",
            "Total params: 10,517,821\n",
            "Trainable params: 10,517,821\n",
            "Non-trainable params: 0\n",
            "_________________________________________________________________\n"
          ],
          "name": "stdout"
        }
      ]
    },
    {
      "cell_type": "code",
      "metadata": {
        "colab": {
          "base_uri": "https://localhost:8080/"
        },
        "id": "IFwljh1byIOb",
        "outputId": "c441bb68-d4b5-4f07-d9c8-5e847bf68e70"
      },
      "source": [
        "from tensorflow.keras.preprocessing.sequence import pad_sequences\n",
        "from tensorflow.keras.models import Sequential\n",
        "from tensorflow.keras.layers import Dense, GlobalMaxPooling1D, LSTM, Bidirectional, Embedding, Dropout\n",
        "\n",
        "model = Sequential([\n",
        "    Embedding(input_dim=num_words, \n",
        "              output_dim=200, \n",
        "              mask_zero=True, \n",
        "              input_length=50),\n",
        "    Bidirectional(LSTM(150, return_sequences=True)),\n",
        "    GlobalMaxPooling1D(),\n",
        "    Dense(300, activation='relu'),\n",
        "    Dropout(0.5),\n",
        "    Dense(output_size, activation='softmax')\n",
        "    \n",
        "])\n",
        "\n",
        "model.compile('adam', loss='sparse_categorical_crossentropy', metrics=['accuracy'])\n",
        "\n",
        "model.summary()"
      ],
      "execution_count": 40,
      "outputs": [
        {
          "output_type": "stream",
          "text": [
            "Model: \"sequential_1\"\n",
            "_________________________________________________________________\n",
            "Layer (type)                 Output Shape              Param #   \n",
            "=================================================================\n",
            "embedding_1 (Embedding)      (None, 50, 200)           10000000  \n",
            "_________________________________________________________________\n",
            "bidirectional_1 (Bidirection (None, 50, 300)           421200    \n",
            "_________________________________________________________________\n",
            "global_max_pooling1d_1 (Glob (None, 300)               0         \n",
            "_________________________________________________________________\n",
            "dense_2 (Dense)              (None, 300)               90300     \n",
            "_________________________________________________________________\n",
            "dropout_1 (Dropout)          (None, 300)               0         \n",
            "_________________________________________________________________\n",
            "dense_3 (Dense)              (None, 21)                6321      \n",
            "=================================================================\n",
            "Total params: 10,517,821\n",
            "Trainable params: 10,517,821\n",
            "Non-trainable params: 0\n",
            "_________________________________________________________________\n"
          ],
          "name": "stdout"
        }
      ]
    },
    {
      "cell_type": "code",
      "metadata": {
        "colab": {
          "base_uri": "https://localhost:8080/"
        },
        "id": "xMjbQg0YyIOb",
        "outputId": "1bf7e25a-1fb3-4fed-f57b-c10358479534"
      },
      "source": [
        "model.fit(X_train, y_train, epochs=10, batch_size=1024, validation_split=0.1)"
      ],
      "execution_count": 33,
      "outputs": [
        {
          "output_type": "stream",
          "text": [
            "Epoch 1/10\n",
            "151/151 [==============================] - 76s 436ms/step - loss: 2.4025 - accuracy: 0.1646 - val_loss: 2.1062 - val_accuracy: 0.2036\n",
            "Epoch 2/10\n",
            "151/151 [==============================] - 61s 404ms/step - loss: 2.0884 - accuracy: 0.2102 - val_loss: 2.0935 - val_accuracy: 0.2080\n",
            "Epoch 3/10\n",
            "151/151 [==============================] - 62s 408ms/step - loss: 1.9666 - accuracy: 0.2590 - val_loss: 2.1402 - val_accuracy: 0.1999\n",
            "Epoch 4/10\n",
            "151/151 [==============================] - 61s 407ms/step - loss: 1.7773 - accuracy: 0.3471 - val_loss: 2.3033 - val_accuracy: 0.1894\n",
            "Epoch 5/10\n",
            "151/151 [==============================] - 62s 407ms/step - loss: 1.5136 - accuracy: 0.4608 - val_loss: 2.5612 - val_accuracy: 0.1754\n",
            "Epoch 6/10\n",
            "151/151 [==============================] - 61s 404ms/step - loss: 1.2455 - accuracy: 0.5666 - val_loss: 2.9493 - val_accuracy: 0.1759\n",
            "Epoch 7/10\n",
            "151/151 [==============================] - 60s 400ms/step - loss: 1.0228 - accuracy: 0.6463 - val_loss: 3.6120 - val_accuracy: 0.1698\n",
            "Epoch 8/10\n",
            "151/151 [==============================] - 61s 403ms/step - loss: 0.8396 - accuracy: 0.7083 - val_loss: 4.2137 - val_accuracy: 0.1670\n",
            "Epoch 9/10\n",
            "151/151 [==============================] - 61s 403ms/step - loss: 0.7031 - accuracy: 0.7574 - val_loss: 4.9701 - val_accuracy: 0.1699\n",
            "Epoch 10/10\n",
            "151/151 [==============================] - 61s 404ms/step - loss: 0.6007 - accuracy: 0.7925 - val_loss: 5.5842 - val_accuracy: 0.1681\n"
          ],
          "name": "stdout"
        },
        {
          "output_type": "execute_result",
          "data": {
            "text/plain": [
              "<tensorflow.python.keras.callbacks.History at 0x7fb44a248810>"
            ]
          },
          "metadata": {
            "tags": []
          },
          "execution_count": 33
        }
      ]
    },
    {
      "cell_type": "code",
      "metadata": {
        "colab": {
          "base_uri": "https://localhost:8080/"
        },
        "id": "g8un3xeoyIOc",
        "outputId": "29176ed3-8e02-44d6-da38-7c8fc1063b90"
      },
      "source": [
        "y_pred = model.predict(X_test, batch_size=1024).argmax(axis=1)\n",
        "print(classification_report(y_test, y_pred))"
      ],
      "execution_count": 47,
      "outputs": [
        {
          "output_type": "stream",
          "text": [
            "              precision    recall  f1-score   support\n",
            "\n",
            "           0       0.00      0.00      0.00         2\n",
            "           1       0.00      0.00      0.00      1863\n",
            "           2       0.12      0.00      0.00      6131\n",
            "           3       0.00      0.00      0.00      1801\n",
            "           4       0.21      0.00      0.01      8425\n",
            "           5       0.04      0.16      0.07      1827\n",
            "           6       0.10      0.01      0.01      4099\n",
            "           7       0.00      0.05      0.00        41\n",
            "           8       0.00      0.00      0.00      6278\n",
            "           9       0.00      0.32      0.00        28\n",
            "          10       0.15      0.06      0.09      6720\n",
            "          11       0.10      0.01      0.02      4938\n",
            "          12       0.01      0.02      0.01       198\n",
            "          13       0.00      0.31      0.01       121\n",
            "          14       0.00      0.07      0.00        61\n",
            "          15       0.00      0.00      0.00        21\n",
            "          16       0.00      0.00      0.00         9\n",
            "          17       0.00      0.00      0.00        11\n",
            "          18       0.00      0.00      0.00         4\n",
            "          19       0.00      0.00      0.00        12\n",
            "          20       0.00      0.00      0.00         0\n",
            "\n",
            "    accuracy                           0.02     42590\n",
            "   macro avg       0.03      0.05      0.01     42590\n",
            "weighted avg       0.10      0.02      0.02     42590\n",
            "\n"
          ],
          "name": "stdout"
        },
        {
          "output_type": "stream",
          "text": [
            "/usr/local/lib/python3.7/dist-packages/sklearn/metrics/_classification.py:1272: UndefinedMetricWarning: Precision and F-score are ill-defined and being set to 0.0 in labels with no predicted samples. Use `zero_division` parameter to control this behavior.\n",
            "  _warn_prf(average, modifier, msg_start, len(result))\n",
            "/usr/local/lib/python3.7/dist-packages/sklearn/metrics/_classification.py:1272: UndefinedMetricWarning: Recall and F-score are ill-defined and being set to 0.0 in labels with no true samples. Use `zero_division` parameter to control this behavior.\n",
            "  _warn_prf(average, modifier, msg_start, len(result))\n"
          ],
          "name": "stderr"
        }
      ]
    },
    {
      "cell_type": "code",
      "metadata": {
        "id": "vdwNdQPVyIOc"
      },
      "source": [
        ""
      ],
      "execution_count": 34,
      "outputs": []
    },
    {
      "cell_type": "code",
      "metadata": {
        "id": "vvO2VHpbCLCu"
      },
      "source": [
        ""
      ],
      "execution_count": null,
      "outputs": []
    },
    {
      "cell_type": "code",
      "metadata": {
        "id": "3Z3BRJ-wCLFT"
      },
      "source": [
        ""
      ],
      "execution_count": null,
      "outputs": []
    }
  ]
}